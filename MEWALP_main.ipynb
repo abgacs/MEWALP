{
 "cells": [
  {
   "cell_type": "code",
   "execution_count": 1,
   "id": "7d3f6d59",
   "metadata": {},
   "outputs": [],
   "source": [
    "# nbi:hide_in\n",
    "\n",
    "from ipywidgets import interact, interactive, fixed, interact_manual, Layout, SelectMultiple\n",
    "import ipywidgets as widgets\n",
    "import pandas as pd\n",
    "import numpy as np\n",
    "import seaborn as sns\n",
    "import matplotlib.pyplot as plt\n",
    "from IPython.display import display\n",
    "from datetime import datetime as dt\n",
    "import ipydatetime\n",
    "import time\n",
    "import matplotlib.ticker as mticker\n",
    "import matplotlib\n",
    "import plotly.express as px\n",
    "import plotly.graph_objects as go\n",
    "import sys \n",
    "import importlib\n",
    "import Density_plot\n",
    "import Scatter_plot\n",
    "import Hexbin\n",
    "import os\n",
    "import subprocess\n",
    "from multiprocessing import Process\n",
    "from random import choice"
   ]
  },
  {
   "cell_type": "code",
   "execution_count": 2,
   "id": "322620af",
   "metadata": {},
   "outputs": [],
   "source": [
    "# nbi:hide_in\n",
    "df = pd.read_csv(\"Lipo.Master.Data.csv\")\n",
    "#df = pd.read_csv(\"Lipo.Master.Data.csv\")\n",
    "#df = pd.read_csv(\"/home/frakesmart/Desktop/LIPO/june_15_16_17_JULY_17.csv\")\n",
    "\n",
    "df['Date'] = pd.to_datetime(df['Date'],format='%d/%m/%Y %H:%M:%S.%f')\n",
    "\n",
    "\n",
    "\n",
    "start_date_widget = widgets.DatePicker(\n",
    "    description='Start Date',\n",
    "    disabled=False\n",
    ")\n",
    "\n",
    "\n",
    "end_date_widget = widgets.DatePicker(\n",
    "    description='End Date',\n",
    "    disabled=False\n",
    ")\n",
    "\n",
    "\n",
    "opts2 = ['Scatter Plot', 'Density Plot', 'Hexbin Plot']\n",
    "plottype_widget = widgets.Select(\n",
    "    options=opts2,\n",
    "    description='Plot type:',\n",
    "    disabled=False,\n",
    "    rows=4,\n",
    "    )\n",
    "\n"
   ]
  },
  {
   "cell_type": "code",
   "execution_count": 3,
   "id": "3eca9114",
   "metadata": {},
   "outputs": [],
   "source": [
    "# nbi:hide_in\n",
    "\n",
    "    \n",
    "def plot_type_selection(plottype):\n",
    "    display(plottype_widget)\n",
    "\n",
    "def date_parameters(start, end):\n",
    "    \n",
    "    #start = pd.to_datetime('2021/07/13')\n",
    "    #end = pd.to_datetime('2021/07/31')\n",
    "        \n",
    "    df_date_update = df.loc[(start <= df['Date'].dt.date) & (end >= df['Date'].dt.date)]\n",
    "    df_date_update.to_csv('date.csv')\n",
    "    \n",
    "#    df_speed = pd.read_csv('/home/frakesmart/Desktop/LIPO/speed.csv')\n",
    "#    fig = px.scatter_mapbox(df_speed, lat=\"Latitude\", lon=\"Longitude\", color=\"Speed\",size=\"Speed\", hover_name=\"Speed\", hover_data=[\"Speed\"],\n",
    "#                size_max=15, zoom=12, height=600)\n",
    "#    fig.update_layout(mapbox_style=\"open-street-map\")\n",
    "#    fig.update_layout(margin={\"r\":0,\"t\":0,\"l\":0,\"b\":0})\n",
    "    \n",
    "    \n",
    "#    fig.show()\n",
    "#    print(df_speed_updated)"
   ]
  },
  {
   "cell_type": "code",
   "execution_count": 4,
   "id": "db79a733-8a54-4ff3-a98d-1a0e58023b6f",
   "metadata": {},
   "outputs": [],
   "source": [
    "# nbi:hide_in\n",
    "plottype = widgets.interactive_output(plot_type_selection,\n",
    "           {'plottype':plottype_widget\n",
    "           })\n"
   ]
  },
  {
   "cell_type": "code",
   "execution_count": 5,
   "id": "09f70f15-97eb-4128-8f55-d35124941779",
   "metadata": {},
   "outputs": [
    {
     "data": {
      "application/vnd.jupyter.widget-view+json": {
       "model_id": "152acc15cc004561bc4f0cd08face113",
       "version_major": 2,
       "version_minor": 0
      },
      "text/plain": [
       "Output()"
      ]
     },
     "metadata": {},
     "output_type": "display_data"
    },
    {
     "data": {
      "application/vnd.jupyter.widget-view+json": {
       "model_id": "f18ecaa21fc74847abaa41d14289ee9c",
       "version_major": 2,
       "version_minor": 0
      },
      "text/plain": [
       "HBox(children=(VBox(children=(Label(value='Select Plot type'), Select(description='Plot type:', options=('Scat…"
      ]
     },
     "metadata": {},
     "output_type": "display_data"
    }
   ],
   "source": [
    "# nbi:hide_in\n",
    "\n",
    "\n",
    "plotui_2 = widgets.HBox(\n",
    "        [widgets.VBox(\n",
    "          [widgets.Label(\"Select Plot type\"), plottype_widget])], \n",
    "        layout=Layout(display='flex', flex_flow='row wrap', justify_content='space-between')\n",
    "    )\n",
    "\n",
    "        \n",
    "def plots(plottype):\n",
    "    \n",
    "    if plottype_widget.value == \"Scatter Plot\" :\n",
    "        Scatter_plot.scatter()\n",
    "        \n",
    "    elif plottype_widget.value == \"Density Plot\" :\n",
    "        Density_plot.densityplot();\n",
    "        \n",
    "    elif plottype_widget.value == \"Hexbin Plot\" :\n",
    "        Hexbin.hexbin()\n",
    "\n",
    "plotout_2 = widgets.interactive_output(\n",
    "        plots, \n",
    "          {'plottype':plottype_widget})\n",
    "\n",
    "display(plotout_2, plotui_2)"
   ]
  }
 ],
 "metadata": {
  "kernelspec": {
   "display_name": "Python 3 (ipykernel)",
   "language": "python",
   "name": "python3"
  },
  "language_info": {
   "codemirror_mode": {
    "name": "ipython",
    "version": 3
   },
   "file_extension": ".py",
   "mimetype": "text/x-python",
   "name": "python",
   "nbconvert_exporter": "python",
   "pygments_lexer": "ipython3",
   "version": "3.9.12"
  }
 },
 "nbformat": 4,
 "nbformat_minor": 5
}
